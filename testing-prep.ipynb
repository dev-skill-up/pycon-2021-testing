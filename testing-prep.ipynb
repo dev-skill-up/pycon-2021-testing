{
 "cells": [
  {
   "cell_type": "markdown",
   "metadata": {},
   "source": [
    "# Testing Tutorial: Preparation\n",
    "\n",
    "We will use Jupyter notebooks as our teaching environments.\n",
    "This notebook will help you prepare for the tutorial.\n",
    "\n",
    "In a new virtual environment, do\n",
    "\n",
    "```\n",
    "$ pip install pytest ipytest jupyterlab\n",
    "```\n",
    "\n",
    "(If you were in the previous tutorial, we are using a different pytest/Jupyter integration,\n",
    "after some issues with the previous one.)\n",
    "\n",
    "When this is done, launch Jupyter\n",
    "\n",
    "```\n",
    "$ jupyter lab\n",
    "```\n",
    "\n",
    "Click on the upload icon, and [upload](https://jupyterlab.readthedocs.io/en/stable/user/files.html#uploading-and-downloading) this notebook.\n",
    "(If you are looking at this notebook on GitHub, you will need to click on \"Raw\",\n",
    "and then use the \"Save Page\" functionality in your browser to save it locally first.)\n",
    "\n",
    "The next step will be to load the `ipytest` Jupyter extension:"
   ]
  },
  {
   "cell_type": "code",
   "execution_count": 2,
   "metadata": {},
   "outputs": [],
   "source": [
    "import ipytest\n",
    "ipytest.autoconfig()"
   ]
  },
  {
   "cell_type": "markdown",
   "metadata": {},
   "source": [
    "There should not be any output from this step. If an error occured saying \"module not found\", make sure the virtual environment has `ipytest` installed."
   ]
  },
  {
   "cell_type": "markdown",
   "metadata": {},
   "source": [
    "Now run simple test, that will check that your environment is properly configured."
   ]
  },
  {
   "cell_type": "code",
   "execution_count": 3,
   "metadata": {},
   "outputs": [
    {
     "name": "stdout",
     "output_type": "stream",
     "text": [
      "FF                                                                       [100%]\n",
      "=================================== FAILURES ===================================\n",
      "______________________________ test_something[1] _______________________________\n",
      "\n",
      "value = 1\n",
      "\n",
      "    @pytest.mark.parametrize('value', [1, 2])\n",
      "    def test_something(value):\n",
      ">       assert value != value\n",
      "E       assert 1 != 1\n",
      "\n",
      "<ipython-input-3-5cd247d35d9e>:5: AssertionError\n",
      "______________________________ test_something[2] _______________________________\n",
      "\n",
      "value = 2\n",
      "\n",
      "    @pytest.mark.parametrize('value', [1, 2])\n",
      "    def test_something(value):\n",
      ">       assert value != value\n",
      "E       assert 2 != 2\n",
      "\n",
      "<ipython-input-3-5cd247d35d9e>:5: AssertionError\n",
      "=========================== short test summary info ============================\n",
      "FAILED tmp6yai66_5.py::test_something[1] - assert 1 != 1\n",
      "FAILED tmp6yai66_5.py::test_something[2] - assert 2 != 2\n",
      "2 failed in 0.11s\n"
     ]
    }
   ],
   "source": [
    "%%run_pytest[clean]\n",
    "\n",
    "import pytest\n",
    "\n",
    "@pytest.mark.parametrize('value', [1, 2])\n",
    "def test_something(value):\n",
    "    assert value != value"
   ]
  },
  {
   "cell_type": "markdown",
   "metadata": {},
   "source": [
    "The output from the cell should look like:\n",
    "\n",
    "```\n",
    "FF                                                                          [100%]\n",
    "==================================== FAILURES =====================================\n",
    "________________________________ test_something[1] ________________________________\n",
    "\n",
    "value = 1\n",
    "\n",
    "    @pytest.mark.parametrize('value', [1, 2])\n",
    "    def test_something(value):\n",
    ">       assert value != value\n",
    "E       assert 1 != 1\n",
    "\n",
    "<ipython-input-25-36909bbf865f>:6: AssertionError\n",
    "________________________________ test_something[2] ________________________________\n",
    "\n",
    "value = 2\n",
    "\n",
    "    @pytest.mark.parametrize('value', [1, 2])\n",
    "    def test_something(value):\n",
    ">       assert value != value\n",
    "E       assert 2 != 2\n",
    "\n",
    "<ipython-input-25-36909bbf865f>:6: AssertionError\n",
    "============================= short test summary info =============================\n",
    "FAILED tmptxg8rvn8.py::test_something[1] - assert 1 != 1\n",
    "FAILED tmptxg8rvn8.py::test_something[2] - assert 2 != 2\n",
    "2 failed in 0.03s\n",
    "```"
   ]
  },
  {
   "cell_type": "markdown",
   "metadata": {},
   "source": [
    "Typical problems:\n",
    "\n",
    "* `ipytest` is not installed\n",
    "* `pytest` is not installed\n",
    "* You are running your Jupyter lab in the wrong virtual environment.\n",
    "\n",
    "The cell below calculates your virtual environment:"
   ]
  },
  {
   "cell_type": "code",
   "execution_count": 4,
   "metadata": {},
   "outputs": [
    {
     "data": {
      "text/plain": [
       "'Your virtual environment is /opt/carme/homedir/venvs/testing'"
      ]
     },
     "execution_count": 4,
     "metadata": {},
     "output_type": "execute_result"
    }
   ],
   "source": [
    "import pathlib, sys\n",
    "\n",
    "venv = pathlib.Path(sys.executable).parent.parent\n",
    "f\"Your virtual environment is {venv}\""
   ]
  },
  {
   "cell_type": "markdown",
   "metadata": {},
   "source": [
    "Use the following to verify which packages are installed.\n",
    "You should see `ipytest` and `pytest`."
   ]
  },
  {
   "cell_type": "code",
   "execution_count": 5,
   "metadata": {},
   "outputs": [
    {
     "name": "stdout",
     "output_type": "stream",
     "text": [
      "attrs==20.3.0\n",
      "backcall==0.2.0\n",
      "decorator==4.4.2\n",
      "iniconfig==1.1.1\n",
      "ipykernel==5.5.3\n",
      "ipytest==0.9.1\n",
      "ipython==7.22.0\n",
      "ipython-genutils==0.2.0\n",
      "jedi==0.18.0\n",
      "jupyter-client==6.1.12\n",
      "jupyter-core==4.7.1\n",
      "packaging==20.9\n",
      "parso==0.8.2\n",
      "pexpect==4.8.0\n",
      "pickleshare==0.7.5\n",
      "pluggy==0.13.1\n",
      "prompt-toolkit==3.0.18\n",
      "ptyprocess==0.7.0\n",
      "py==1.10.0\n",
      "Pygments==2.8.1\n",
      "pyparsing==2.4.7\n",
      "pytest==6.2.2\n",
      "python-dateutil==2.8.1\n",
      "pyzmq==22.0.3\n",
      "six==1.15.0\n",
      "toml==0.10.2\n",
      "tornado==6.1\n",
      "traitlets==5.0.5\n",
      "wcwidth==0.2.5\n",
      "Note: you may need to restart the kernel to use updated packages.\n"
     ]
    }
   ],
   "source": [
    "pip freeze"
   ]
  }
 ],
 "metadata": {
  "kernelspec": {
   "display_name": "testing",
   "language": "python",
   "name": "testing-venv"
  },
  "language_info": {
   "codemirror_mode": {
    "name": "ipython",
    "version": 3
   },
   "file_extension": ".py",
   "mimetype": "text/x-python",
   "name": "python",
   "nbconvert_exporter": "python",
   "pygments_lexer": "ipython3",
   "version": "3.9.0"
  }
 },
 "nbformat": 4,
 "nbformat_minor": 4
}
